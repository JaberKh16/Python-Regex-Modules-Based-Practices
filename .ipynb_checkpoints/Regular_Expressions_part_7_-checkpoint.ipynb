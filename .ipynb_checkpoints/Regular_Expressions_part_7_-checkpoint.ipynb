{
 "cells": [
  {
   "cell_type": "markdown",
   "metadata": {
    "colab_type": "text",
    "id": "881He1aIq7cS"
   },
   "source": [
    "## Naming Groups"
   ]
  },
  {
   "cell_type": "code",
   "execution_count": 0,
   "metadata": {
    "colab": {},
    "colab_type": "code",
    "id": "bxrxQUM4q7cT"
   },
   "outputs": [],
   "source": [
    "import re"
   ]
  },
  {
   "cell_type": "code",
   "execution_count": 0,
   "metadata": {
    "colab": {},
    "colab_type": "code",
    "id": "ExQXmFZXq7cW"
   },
   "outputs": [],
   "source": [
    "string = 'New York, New York 11369'"
   ]
  },
  {
   "cell_type": "code",
   "execution_count": 0,
   "metadata": {
    "colab": {},
    "colab_type": "code",
    "id": "yktZ-0TRq7cZ"
   },
   "outputs": [],
   "source": [
    "([A-Za-z\\s]+)\n",
    "([A-Za-z\\s]+)\n",
    "(\\d+)"
   ]
  },
  {
   "cell_type": "code",
   "execution_count": 0,
   "metadata": {
    "colab": {},
    "colab_type": "code",
    "id": "PDcqK0UNq7cb"
   },
   "outputs": [],
   "source": [
    "match =re.search('([A-Za-z\\s]+),([A-Za-z\\s]+)(\\d+)', string)"
   ]
  },
  {
   "cell_type": "code",
   "execution_count": 0,
   "metadata": {
    "colab": {},
    "colab_type": "code",
    "id": "z44Hc6nZq7ce",
    "outputId": "526bcbe2-d52b-4818-802c-78786604aade"
   },
   "outputs": [
    {
     "data": {
      "text/plain": [
       "('New York', ' New York ', '11369', 'New York, New York 11369')"
      ]
     },
     "execution_count": 4,
     "metadata": {
      "tags": []
     },
     "output_type": "execute_result"
    }
   ],
   "source": [
    "match.group(1), match.group(2), match.group(3), match.group(0)"
   ]
  },
  {
   "cell_type": "code",
   "execution_count": 0,
   "metadata": {
    "colab": {},
    "colab_type": "code",
    "id": "HEN00zWbq7ch"
   },
   "outputs": [],
   "source": [
    "?P< >   #to name a group-- group name inside the <>, followed by RE for group\n",
    "\n",
    "(?P<City>)      (?P<State>)    (?P<ZipCode>)"
   ]
  },
  {
   "cell_type": "code",
   "execution_count": 0,
   "metadata": {
    "colab": {},
    "colab_type": "code",
    "id": "oavt_LGxq7ck"
   },
   "outputs": [],
   "source": [
    "pattern = re.compile('(?P<City>[A-Za-z\\s]+),(?P<State>[A-Za-z\\s]+)(?P<ZipCode>\\d+)')"
   ]
  },
  {
   "cell_type": "code",
   "execution_count": 0,
   "metadata": {
    "colab": {},
    "colab_type": "code",
    "id": "h_Rumdizq7cm"
   },
   "outputs": [],
   "source": [
    "match = re.search(pattern, string)"
   ]
  },
  {
   "cell_type": "code",
   "execution_count": 0,
   "metadata": {
    "colab": {},
    "colab_type": "code",
    "id": "B92NOVWCq7cp",
    "outputId": "1242a09b-e4e3-42b2-84c5-cfad8960a2a8"
   },
   "outputs": [
    {
     "data": {
      "text/plain": [
       "('New York', ' New York ', '11369')"
      ]
     },
     "execution_count": 7,
     "metadata": {
      "tags": []
     },
     "output_type": "execute_result"
    }
   ],
   "source": [
    "match.group('City'), match.group('State'), match.group('ZipCode')"
   ]
  },
  {
   "cell_type": "code",
   "execution_count": 0,
   "metadata": {
    "colab": {},
    "colab_type": "code",
    "id": "jDt4TOoRq7cu",
    "outputId": "22bcff9f-204b-4d6f-b6cb-77c504e5bdd0"
   },
   "outputs": [
    {
     "data": {
      "text/plain": [
       "'New York'"
      ]
     },
     "execution_count": 8,
     "metadata": {
      "tags": []
     },
     "output_type": "execute_result"
    }
   ],
   "source": [
    "match.group(1)"
   ]
  },
  {
   "cell_type": "code",
   "execution_count": 0,
   "metadata": {
    "colab": {},
    "colab_type": "code",
    "id": "cWF-G64mq7cw",
    "outputId": "c3cdb0e6-92fc-4e38-cb15-02b11cdf7175"
   },
   "outputs": [
    {
     "data": {
      "text/plain": [
       "('New York', ' New York ', '11369')"
      ]
     },
     "execution_count": 11,
     "metadata": {
      "tags": []
     },
     "output_type": "execute_result"
    }
   ],
   "source": [
    "match.groups()"
   ]
  },
  {
   "cell_type": "code",
   "execution_count": 0,
   "metadata": {
    "colab": {},
    "colab_type": "code",
    "id": "gKFvwyrpq7cy",
    "outputId": "80424592-5693-4410-ac99-705f7bda289d"
   },
   "outputs": [
    {
     "data": {
      "text/plain": [
       "{'City': 'New York', 'State': ' New York ', 'ZipCode': '11369'}"
      ]
     },
     "execution_count": 10,
     "metadata": {
      "tags": []
     },
     "output_type": "execute_result"
    }
   ],
   "source": [
    "#Just incase you forget the names of the groups you used\n",
    "\n",
    "match.groupdict()"
   ]
  },
  {
   "cell_type": "code",
   "execution_count": 0,
   "metadata": {
    "colab": {},
    "colab_type": "code",
    "id": "qMo93n9Rq7c0"
   },
   "outputs": [],
   "source": [
    ""
   ]
  },
  {
   "cell_type": "code",
   "execution_count": 0,
   "metadata": {
    "colab": {},
    "colab_type": "code",
    "id": "tC5WVq9Bq7c3"
   },
   "outputs": [],
   "source": [
    ""
   ]
  }
 ],
 "metadata": {
  "colab": {
   "collapsed_sections": [],
   "name": "Regular Expressions part 7 .ipynb",
   "provenance": []
  },
  "kernelspec": {
   "display_name": "Python 3",
   "language": "python",
   "name": "python3"
  },
  "language_info": {
   "codemirror_mode": {
    "name": "ipython",
    "version": 3
   },
   "file_extension": ".py",
   "mimetype": "text/x-python",
   "name": "python",
   "nbconvert_exporter": "python",
   "pygments_lexer": "ipython3",
   "version": "3.6.0"
  }
 },
 "nbformat": 4,
 "nbformat_minor": 0
}
