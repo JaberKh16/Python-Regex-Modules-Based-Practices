{
 "cells": [
  {
   "cell_type": "markdown",
   "metadata": {},
   "source": [
    "# Python Regex Module Learning\n",
    "\n",
    "\n",
    "     Regular Expressions are used to match string patterns.\n",
    "      \n",
    "      -They are very powerful\n",
    "\n",
    "      -If you want to pull out a string pattern RE can do it\n",
    "\n",
    "      -They may seem intimidating\n"
   ]
  },
  {
   "cell_type": "markdown",
   "metadata": {
    "colab_type": "text",
    "id": "8mPEPonDpoqU"
   },
   "source": [
    "# Things to note"
   ]
  },
  {
   "cell_type": "code",
   "execution_count": 0,
   "metadata": {
    "colab": {},
    "colab_type": "code",
    "id": "VI5AU7sdpoqV"
   },
   "outputs": [],
   "source": [
    "#The first thing I want start off with is the the back slash character\n",
    "#Very confusing to people"
   ]
  },
  {
   "cell_type": "code",
   "execution_count": 0,
   "metadata": {
    "colab": {},
    "colab_type": "code",
    "id": "7ccbVwB9poqY"
   },
   "outputs": [],
   "source": [
    "#Python uses back slash to indicate special characters \n",
    "\n",
    "\n",
    "'\\n'  Backslash followed by n denotes a newline\n",
    "'\\t'  denotes a tab\n",
    "\n"
   ]
  },
  {
   "cell_type": "code",
   "execution_count": 0,
   "metadata": {
    "colab": {},
    "colab_type": "code",
    "id": "H1H4sszTpoqa"
   },
   "outputs": [],
   "source": [
    "\n",
    "\n",
    " 'r' expression, that voids the Python's special characters\n",
    "\n",
    " r'\\n' means it's a raw string with two characters 'n' and '\\' as \n",
    "opposed to just one special character'  "
   ]
  },
  {
   "cell_type": "code",
   "execution_count": 0,
   "metadata": {
    "colab": {},
    "colab_type": "code",
    "id": "6KJf4Rhspoqd"
   },
   "outputs": [],
   "source": [
    "\n",
    "#Let's see some examples of this dont mind the python syntax\n"
   ]
  },
  {
   "cell_type": "code",
   "execution_count": 0,
   "metadata": {
    "colab": {},
    "colab_type": "code",
    "id": "fSxTnsWFpoqf"
   },
   "outputs": [],
   "source": [
    "import re\n",
    "re.search('n', '\\n')  #first item is pattern, second item is string"
   ]
  },
  {
   "cell_type": "code",
   "execution_count": 0,
   "metadata": {
    "colab": {},
    "colab_type": "code",
    "id": "-kMqlVgPpoqi",
    "outputId": "d37e4d54-8dfe-44f8-cfa6-acbc0b8e9003"
   },
   "outputs": [
    {
     "data": {
      "text/plain": [
       "<_sre.SRE_Match object; span=(1, 2), match='n'>"
      ]
     },
     "execution_count": 2,
     "metadata": {
      "tags": []
     },
     "output_type": "execute_result"
    }
   ],
   "source": [
    "#two ways to handle this one way is to use \\ for every backslash\n",
    "\n",
    "import re\n",
    "re.search('n', '\\\\n')   "
   ]
  },
  {
   "cell_type": "code",
   "execution_count": 0,
   "metadata": {
    "colab": {},
    "colab_type": "code",
    "id": "GZhEdeIVpoql"
   },
   "outputs": [],
   "source": [
    "re.search('n',  '\\n\\n\\n\\n\\n\\n\\n\\n\\n\\n\\n\\n\\n\\n\\n')  #not the best way if we\n",
    "                                                   #have too many \\s"
   ]
  },
  {
   "cell_type": "code",
   "execution_count": 0,
   "metadata": {
    "colab": {},
    "colab_type": "code",
    "id": "iIhmFybWpoqn",
    "outputId": "cd23ba49-3da3-4c39-d610-2f1f044710d3"
   },
   "outputs": [
    {
     "data": {
      "text/plain": [
       "<_sre.SRE_Match object; span=(1, 2), match='n'>"
      ]
     },
     "execution_count": 5,
     "metadata": {
      "tags": []
     },
     "output_type": "execute_result"
    }
   ],
   "source": [
    "re.search('n',  r'\\n\\n\\n\\n\\n\\n\\n\\n\\n\\n\\n\\n\\n\\n\\n')    #r converts to raw string"
   ]
  },
  {
   "cell_type": "code",
   "execution_count": 0,
   "metadata": {
    "colab": {},
    "colab_type": "code",
    "id": "uf6w38OQpoqr",
    "outputId": "3da81435-5a03-4e90-c49b-ae33cd53edc7"
   },
   "outputs": [
    {
     "data": {
      "text/plain": [
       "<_sre.SRE_Match object; span=(0, 1), match='\\n'>"
      ]
     },
     "execution_count": 6,
     "metadata": {
      "tags": []
     },
     "output_type": "execute_result"
    }
   ],
   "source": [
    "#there are some nuances that you should be aware of\n",
    "#regular expressions has its own special characters as well\n",
    "# regex with '\\n' and r'\\n' both look for newline\n",
    "\n",
    "re.search('\\n',  '\\n\\n\\n\\n\\n\\n\\n\\n\\n\\n\\n\\n\\n\\n\\n')   "
   ]
  },
  {
   "cell_type": "code",
   "execution_count": 0,
   "metadata": {
    "colab": {},
    "colab_type": "code",
    "id": "2ZRwP6M_poqt",
    "outputId": "9e8ba693-a82f-4a0f-a280-0b4a5904ce70"
   },
   "outputs": [
    {
     "data": {
      "text/plain": [
       "<_sre.SRE_Match object; span=(0, 1), match='\\n'>"
      ]
     },
     "execution_count": 7,
     "metadata": {
      "tags": []
     },
     "output_type": "execute_result"
    }
   ],
   "source": [
    "re.search(r'\\n',  '\\n\\n')     #this works as well because r'\\n' also looks\n",
    "                                #for new line"
   ]
  },
  {
   "cell_type": "code",
   "execution_count": 0,
   "metadata": {
    "colab": {},
    "colab_type": "code",
    "id": "XafY26sQpoqv"
   },
   "outputs": [],
   "source": [
    "#doesn't work because sting doesn't use newline and r'\\n' looks for newline\n",
    "\n",
    "re.search(r'\\n',  r'\\n\\n') `   #r\n",
    "\n"
   ]
  },
  {
   "cell_type": "markdown",
   "metadata": {
    "colab_type": "text",
    "id": "K85h5xdtpoqx"
   },
   "source": [
    "# MATCH and SEARCH EXAMPLES"
   ]
  },
  {
   "cell_type": "code",
   "execution_count": 0,
   "metadata": {
    "colab": {},
    "colab_type": "code",
    "id": "qozCHRxppoqy"
   },
   "outputs": [],
   "source": [
    "REs common methods - Match and Search"
   ]
  },
  {
   "cell_type": "code",
   "execution_count": 0,
   "metadata": {
    "colab": {},
    "colab_type": "code",
    "id": "LgEa0Ku_poq0"
   },
   "outputs": [],
   "source": [
    "re.search(pattern, string, flags)  # searches anywhere in the sentence\n",
    "                                    #flags special options"
   ]
  },
  {
   "cell_type": "code",
   "execution_count": 0,
   "metadata": {
    "colab": {},
    "colab_type": "code",
    "id": "7dY9chrspoq3"
   },
   "outputs": [],
   "source": [
    "re.match(pattern, string, flags) # only beginning of the string"
   ]
  },
  {
   "cell_type": "code",
   "execution_count": 0,
   "metadata": {
    "colab": {},
    "colab_type": "code",
    "id": "7vKWGGJ7poq5"
   },
   "outputs": [],
   "source": [
    "re.match(\"c\", \"abcdef\")  #returns none because only looks at the start of string"
   ]
  },
  {
   "cell_type": "code",
   "execution_count": 0,
   "metadata": {
    "colab": {},
    "colab_type": "code",
    "id": "3W_lDpQDpoq7",
    "outputId": "60774d9b-8aba-4880-96f2-6c537c90aa10"
   },
   "outputs": [
    {
     "data": {
      "text/plain": [
       "<_sre.SRE_Match object; span=(2, 3), match='c'>"
      ]
     },
     "execution_count": 10,
     "metadata": {
      "tags": []
     },
     "output_type": "execute_result"
    }
   ],
   "source": [
    "re.search(\"c\", \"abcdef\")   #searches anywhere"
   ]
  },
  {
   "cell_type": "code",
   "execution_count": 0,
   "metadata": {
    "colab": {},
    "colab_type": "code",
    "id": "mas774TVpoq9"
   },
   "outputs": [],
   "source": []
  },
  {
   "cell_type": "code",
   "execution_count": 0,
   "metadata": {
    "colab": {},
    "colab_type": "code",
    "id": "M4JYsn0spoq_",
    "outputId": "407e8651-3322-4578-f8f3-4afe3305a11d"
   },
   "outputs": [
    {
     "data": {
      "text/plain": [
       "False"
      ]
     },
     "execution_count": 12,
     "metadata": {
      "tags": []
     },
     "output_type": "execute_result"
    }
   ],
   "source": [
    "bool(re.match(\"c\", \"abcdef\"))  # no match returns boolean false"
   ]
  },
  {
   "cell_type": "code",
   "execution_count": 0,
   "metadata": {
    "colab": {},
    "colab_type": "code",
    "id": "Wi6pIrzVporB",
    "outputId": "27e1d047-fc49-40c2-8682-080af5b8f5ee"
   },
   "outputs": [
    {
     "data": {
      "text/plain": [
       "True"
      ]
     },
     "execution_count": 13,
     "metadata": {
      "tags": []
     },
     "output_type": "execute_result"
    }
   ],
   "source": [
    "bool(re.match(\"a\", \"abcdef\"))  #match returns true"
   ]
  },
  {
   "cell_type": "code",
   "execution_count": 0,
   "metadata": {
    "colab": {},
    "colab_type": "code",
    "id": "1fX15pKUporE",
    "outputId": "64ea2ab0-9f5d-439b-fabe-ffd993dfbf22"
   },
   "outputs": [
    {
     "data": {
      "text/plain": [
       "<_sre.SRE_Match object; span=(2, 3), match='c'>"
      ]
     },
     "execution_count": 14,
     "metadata": {
      "tags": []
     },
     "output_type": "execute_result"
    }
   ],
   "source": [
    "re.search(\"c\", \"abcdef\")  #tells you where it matched first and only first"
   ]
  },
  {
   "cell_type": "code",
   "execution_count": 0,
   "metadata": {
    "colab": {},
    "colab_type": "code",
    "id": "LSLnrE84porG",
    "outputId": "0081478b-ffb2-42e9-8cae-17361700b4ef"
   },
   "outputs": [
    {
     "data": {
      "text/plain": [
       "<_sre.SRE_Match object; span=(2, 3), match='c'>"
      ]
     },
     "execution_count": 15,
     "metadata": {
      "tags": []
     },
     "output_type": "execute_result"
    }
   ],
   "source": [
    "re.search(\"c\", \"abcdefc\")  #multiple 'c's first instance only"
   ]
  },
  {
   "cell_type": "code",
   "execution_count": 0,
   "metadata": {
    "colab": {},
    "colab_type": "code",
    "id": "INp1UmLoporI",
    "outputId": "0c144a14-4a4f-4600-e050-e4db38414c2a"
   },
   "outputs": [
    {
     "data": {
      "text/plain": [
       "<_sre.SRE_Match object; span=(6, 7), match='c'>"
      ]
     },
     "execution_count": 16,
     "metadata": {
      "tags": []
     },
     "output_type": "execute_result"
    }
   ],
   "source": [
    "re.search(\"c\", \"abdef\\nc\") #multiline works with search"
   ]
  },
  {
   "cell_type": "code",
   "execution_count": 0,
   "metadata": {
    "colab": {},
    "colab_type": "code",
    "id": "VKvqt9sJporK"
   },
   "outputs": [],
   "source": [
    "re.match(\"c\", \"abcdef\\nc\")   #match doesn't work with newline"
   ]
  },
  {
   "cell_type": "markdown",
   "metadata": {
    "colab_type": "text",
    "id": "Kji72wxbporM"
   },
   "source": [
    "## Printing the output of match and search"
   ]
  },
  {
   "cell_type": "code",
   "execution_count": 0,
   "metadata": {
    "colab": {},
    "colab_type": "code",
    "id": "NxuuMCoKporN",
    "outputId": "eca9a753-4a5f-4bcf-eb1a-0cd295510cd2"
   },
   "outputs": [
    {
     "data": {
      "text/plain": [
       "<_sre.SRE_Match object; span=(0, 1), match='a'>"
      ]
     },
     "execution_count": 23,
     "metadata": {
      "tags": []
     },
     "output_type": "execute_result"
    }
   ],
   "source": [
    "(re.match(\"a\", \"abcdef\"))   #match objects"
   ]
  },
  {
   "cell_type": "code",
   "execution_count": 0,
   "metadata": {
    "colab": {},
    "colab_type": "code",
    "id": "8N-EXdEHporP",
    "outputId": "e7c87b72-c093-4bf4-d33d-18a93a4d8b8b"
   },
   "outputs": [
    {
     "data": {
      "text/plain": [
       "'a'"
      ]
     },
     "execution_count": 19,
     "metadata": {
      "tags": []
     },
     "output_type": "execute_result"
    }
   ],
   "source": [
    "re.match(\"a\", \"abcdef\").group()  #string output #defautlt value is 0"
   ]
  },
  {
   "cell_type": "code",
   "execution_count": 0,
   "metadata": {
    "colab": {},
    "colab_type": "code",
    "id": "YkTxC_WvporR",
    "outputId": "7dd5c4b3-f8bb-44c5-d36a-083fc32b8a25"
   },
   "outputs": [
    {
     "data": {
      "text/plain": [
       "'a'"
      ]
     },
     "execution_count": 20,
     "metadata": {
      "tags": []
     },
     "output_type": "execute_result"
    }
   ],
   "source": [
    "re.match(\"a\", \"abcdef\").group(0)  "
   ]
  },
  {
   "cell_type": "code",
   "execution_count": 0,
   "metadata": {
    "colab": {},
    "colab_type": "code",
    "id": "axq03sYNporT",
    "outputId": "cfd83bbf-905a-4774-c07f-0622e816403b"
   },
   "outputs": [
    {
     "data": {
      "text/plain": [
       "'n'"
      ]
     },
     "execution_count": 21,
     "metadata": {
      "tags": []
     },
     "output_type": "execute_result"
    }
   ],
   "source": [
    "re.search(\"n\", \"abcdefnc abcd\").group()"
   ]
  },
  {
   "cell_type": "code",
   "execution_count": 0,
   "metadata": {
    "colab": {},
    "colab_type": "code",
    "id": "JI9kyO54porV",
    "outputId": "3b86c789-6c1f-43b1-8436-4744b3208be6"
   },
   "outputs": [
    {
     "data": {
      "text/plain": [
       "'nc abcd'"
      ]
     },
     "execution_count": 22,
     "metadata": {
      "tags": []
     },
     "output_type": "execute_result"
    }
   ],
   "source": [
    "re.search('n.+', \"abcdefnc abcd\").group()  #pull out different types of strings \n",
    "                                            #depending on the wildcards you use"
   ]
  },
  {
   "cell_type": "code",
   "execution_count": 0,
   "metadata": {
    "colab": {},
    "colab_type": "code",
    "id": "qwo58vqeporX",
    "outputId": "f8501577-799b-4838-af35-61ee2366c13b"
   },
   "outputs": [
    {
     "data": {
      "text/plain": [
       "6"
      ]
     },
     "execution_count": 24,
     "metadata": {
      "tags": []
     },
     "output_type": "execute_result"
    }
   ],
   "source": [
    "re.search(\"c\", \"abdef\\nc\").start()"
   ]
  },
  {
   "cell_type": "code",
   "execution_count": 0,
   "metadata": {
    "colab": {},
    "colab_type": "code",
    "id": "iPzsRi30porZ",
    "outputId": "faf7d967-a275-4c6a-8f96-4f7809912cc2"
   },
   "outputs": [
    {
     "data": {
      "text/plain": [
       "7"
      ]
     },
     "execution_count": 25,
     "metadata": {
      "tags": []
     },
     "output_type": "execute_result"
    }
   ],
   "source": [
    "re.search(\"c\", \"abdef\\nc\").end()"
   ]
  },
  {
   "cell_type": "markdown",
   "metadata": {
    "colab_type": "text",
    "collapsed": true,
    "id": "a_xAo3stporc"
   },
   "source": [
    "##  Literal matching"
   ]
  },
  {
   "cell_type": "code",
   "execution_count": 0,
   "metadata": {
    "colab": {},
    "colab_type": "code",
    "collapsed": true,
    "id": "PT7QvVIhpord"
   },
   "outputs": [],
   "source": [
    "re.search('na',\"abcdefnc abcd\" )  #doesn't work, because they are ordered"
   ]
  },
  {
   "cell_type": "code",
   "execution_count": 0,
   "metadata": {
    "colab": {},
    "colab_type": "code",
    "id": "OEa80WK3porf",
    "outputId": "8754a9d0-a774-4bb8-b525-b5835ee1f91a"
   },
   "outputs": [
    {
     "data": {
      "text/plain": [
       "<_sre.SRE_Match object; span=(0, 1), match='a'>"
      ]
     },
     "execution_count": 27,
     "metadata": {
      "tags": []
     },
     "output_type": "execute_result"
    }
   ],
   "source": [
    "re.search('n|a',\"abcdefnc abcda\" )  #n or a"
   ]
  },
  {
   "cell_type": "code",
   "execution_count": 0,
   "metadata": {
    "colab": {},
    "colab_type": "code",
    "id": "C5kxocfsporh",
    "outputId": "077e7836-0e71-45e4-a06d-0b747a1dce94"
   },
   "outputs": [
    {
     "data": {
      "text/plain": [
       "<_sre.SRE_Match object; span=(5, 6), match='n'>"
      ]
     },
     "execution_count": 28,
     "metadata": {
      "tags": []
     },
     "output_type": "execute_result"
    }
   ],
   "source": [
    " re.search('n|a',\"bcdefnc abcda\" )  #replaced the a with b, first match is an n"
   ]
  },
  {
   "cell_type": "code",
   "execution_count": 0,
   "metadata": {
    "colab": {},
    "colab_type": "code",
    "id": "WoXhSYKoporj",
    "outputId": "398b0180-a15a-4eae-b850-e891e2801bfe"
   },
   "outputs": [
    {
     "data": {
      "text/plain": [
       "<_sre.SRE_Match object; span=(0, 1), match='b'>"
      ]
     },
     "execution_count": 29,
     "metadata": {
      "tags": []
     },
     "output_type": "execute_result"
    }
   ],
   "source": [
    "re.search('n|a|b',\"bcdefnc abcda\" ) # as many OR expressions"
   ]
  },
  {
   "cell_type": "markdown",
   "metadata": {
    "colab_type": "text",
    "id": "I13DEDxzporn"
   },
   "source": [
    "##  re.findall"
   ]
  },
  {
   "cell_type": "code",
   "execution_count": 0,
   "metadata": {
    "colab": {},
    "colab_type": "code",
    "id": "vyAx6jeHporo",
    "outputId": "da565ee8-e084-4ddb-8ee5-f816084a4aa5"
   },
   "outputs": [
    {
     "data": {
      "text/plain": [
       "['n', 'a', 'a']"
      ]
     },
     "execution_count": 30,
     "metadata": {
      "tags": []
     },
     "output_type": "execute_result"
    }
   ],
   "source": [
    "re.findall('n|a',\"bcdefnc abcda\" ) #find all pulls out all instances"
   ]
  },
  {
   "cell_type": "code",
   "execution_count": 0,
   "metadata": {
    "colab": {},
    "colab_type": "code",
    "id": "-w9gwLOFporq",
    "outputId": "b1ed2437-e2b3-48cb-9192-7de99858f58a"
   },
   "outputs": [
    {
     "data": {
      "text/plain": [
       "<_sre.SRE_Match object; span=(0, 4), match='abcd'>"
      ]
     },
     "execution_count": 31,
     "metadata": {
      "tags": []
     },
     "output_type": "execute_result"
    }
   ],
   "source": [
    "re.search('abcd',\"abcdefnc abcd\" ) #multiple characters - literal search"
   ]
  },
  {
   "cell_type": "code",
   "execution_count": 0,
   "metadata": {
    "colab": {},
    "colab_type": "code",
    "collapsed": true,
    "id": "NmlJsukapors"
   },
   "outputs": [],
   "source": [
    "re.findall('abcd',\"abcdefnc abcd\" ) "
   ]
  },
  {
   "cell_type": "code",
   "execution_count": 0,
   "metadata": {
    "colab": {},
    "colab_type": "code",
    "collapsed": true,
    "id": "MIMD9rouporv"
   },
   "outputs": [],
   "source": []
  }
 ],
 "metadata": {
  "colab": {
   "name": "Regular Expressions  part 1 + part 2.ipynb",
   "provenance": []
  },
  "kernelspec": {
   "display_name": "Python 3",
   "language": "python",
   "name": "python3"
  },
  "language_info": {
   "codemirror_mode": {
    "name": "ipython",
    "version": 3
   },
   "file_extension": ".py",
   "mimetype": "text/x-python",
   "name": "python",
   "nbconvert_exporter": "python",
   "pygments_lexer": "ipython3",
   "version": "3.8.5"
  }
 },
 "nbformat": 4,
 "nbformat_minor": 1
}
