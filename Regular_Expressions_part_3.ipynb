{
 "cells": [
  {
   "cell_type": "markdown",
   "metadata": {
    "colab_type": "text",
    "id": "_QAL6hU5qAM4"
   },
   "source": [
    "## CHARACTER SETS"
   ]
  },
  {
   "cell_type": "code",
   "execution_count": 0,
   "metadata": {
    "colab": {},
    "colab_type": "code",
    "id": "k0xRCxwhqAM7"
   },
   "outputs": [],
   "source": [
    "#Character sets can match a set of characters"
   ]
  },
  {
   "cell_type": "code",
   "execution_count": 0,
   "metadata": {
    "colab": {},
    "colab_type": "code",
    "id": "Fm2v4d1OqANA",
    "outputId": "1a81bfeb-7a63-4f7f-acd5-4fc63a32b25f"
   },
   "outputs": [
    {
     "data": {
      "text/plain": [
       "<_sre.SRE_Match object; span=(0, 4), match='abcd'>"
      ]
     },
     "execution_count": 33,
     "metadata": {
      "tags": []
     },
     "output_type": "execute_result"
    }
   ],
   "source": [
    "re.search('abcd',\"abcdefnc abcd\" ) # earlier code"
   ]
  },
  {
   "cell_type": "code",
   "execution_count": 0,
   "metadata": {
    "colab": {},
    "colab_type": "code",
    "id": "IKWfAbqMqANE",
    "outputId": "e575d158-ef80-4e7b-870f-04cdce21cee2"
   },
   "outputs": [
    {
     "data": {
      "text/plain": [
       "<_sre.SRE_Match object; span=(0, 4), match='abcd'>"
      ]
     },
     "execution_count": 34,
     "metadata": {
      "tags": []
     },
     "output_type": "execute_result"
    }
   ],
   "source": [
    "re.search(r'\\w\\w\\w\\w',\"abcdefnc abcd\" )      #matches characters and numbers\n",
    "                                        #alpha numeric characters "
   ]
  },
  {
   "cell_type": "markdown",
   "metadata": {
    "colab_type": "text",
    "collapsed": true,
    "id": "paHVCBwkqANH"
   },
   "source": [
    "\\w matches  alpha numeric characters [a-zA-Z0-9_] "
   ]
  },
  {
   "cell_type": "code",
   "execution_count": 0,
   "metadata": {
    "colab": {},
    "colab_type": "code",
    "id": "yNR0rdOFqANI",
    "outputId": "f2540e6e-0d74-4109-bb13-77dbec94e94e"
   },
   "outputs": [
    {
     "data": {
      "text/plain": [
       "<_sre.SRE_Match object; span=(0, 4), match='ab_c'>"
      ]
     },
     "execution_count": 35,
     "metadata": {
      "tags": []
     },
     "output_type": "execute_result"
    }
   ],
   "source": [
    "re.search(r'\\w\\w\\w\\w',\"ab_cdefnc abcd\" ) #matches _ character"
   ]
  },
  {
   "cell_type": "code",
   "execution_count": 0,
   "metadata": {
    "colab": {},
    "colab_type": "code",
    "id": "2WAqWhQiqANL"
   },
   "outputs": [],
   "source": [
    "re.search(r'\\w\\w\\w', \"a3.!-!\")  #doesn't match symbols only numbers and \n",
    "                                #    characters"
   ]
  },
  {
   "cell_type": "code",
   "execution_count": 0,
   "metadata": {
    "colab": {},
    "colab_type": "code",
    "id": "NxiCB13MqANO",
    "outputId": "a919ef9c-9e33-4b22-a273-8d5ea59af29f"
   },
   "outputs": [
    {
     "data": {
      "text/plain": [
       "'a33'"
      ]
     },
     "execution_count": 37,
     "metadata": {
      "tags": []
     },
     "output_type": "execute_result"
    }
   ],
   "source": [
    "re.search(r'\\w\\w\\w', \"a33-_!\") .group()"
   ]
  },
  {
   "cell_type": "code",
   "execution_count": 0,
   "metadata": {
    "colab": {},
    "colab_type": "code",
    "id": "ICvg1_jqqANQ"
   },
   "outputs": [],
   "source": [
    "#\\W  opposite of \\w ; so nothing included in   [a-zA-Z0-9_]"
   ]
  },
  {
   "cell_type": "code",
   "execution_count": 0,
   "metadata": {
    "colab": {},
    "colab_type": "code",
    "id": "N2H2dbYRqANU",
    "outputId": "bd495268-0f7e-41e2-c945-b1c0e4d087ed"
   },
   "outputs": [
    {
     "data": {
      "text/plain": [
       "<_sre.SRE_Match object; span=(0, 3), match='a3.'>"
      ]
     },
     "execution_count": 38,
     "metadata": {
      "tags": []
     },
     "output_type": "execute_result"
    }
   ],
   "source": [
    "\n",
    "re.search(r'\\w\\w\\W', \"a3.-_!\") # \\W matches non characters and numbers"
   ]
  },
  {
   "cell_type": "code",
   "execution_count": 0,
   "metadata": {
    "colab": {},
    "colab_type": "code",
    "id": "JS0N2TWkqANW",
    "outputId": "643643bb-e6ff-4fe6-d2ad-2d6ebe1e9fd3"
   },
   "outputs": [
    {
     "data": {
      "text/plain": [
       "<_sre.SRE_Match object; span=(0, 3), match='a3 '>"
      ]
     },
     "execution_count": 39,
     "metadata": {
      "tags": []
     },
     "output_type": "execute_result"
    }
   ],
   "source": [
    "re.search(r'\\w\\w\\W', \"a3 .-_!\")   #matches empty space as well"
   ]
  },
  {
   "cell_type": "code",
   "execution_count": 0,
   "metadata": {
    "colab": {},
    "colab_type": "code",
    "id": "yFz8IsWVqANZ"
   },
   "outputs": [],
   "source": [
    "#We will go over other character sets later on"
   ]
  },
  {
   "cell_type": "markdown",
   "metadata": {
    "colab_type": "text",
    "id": "hz0qjdUUqANb"
   },
   "source": [
    "# Let's go over quantifiers'"
   ]
  },
  {
   "cell_type": "code",
   "execution_count": 0,
   "metadata": {
    "colab": {},
    "colab_type": "code",
    "id": "nKzuxOEhqANc"
   },
   "outputs": [],
   "source": [
    "#quantifiers\n",
    "#\n",
    "'+'   = 1 or more\n",
    "'?' =  0 or 1\n",
    "'*' =  0 or more\n",
    "'{n,m}'  = n to m repetitions {,3}, {3,}\n",
    "\n"
   ]
  },
  {
   "cell_type": "code",
   "execution_count": 0,
   "metadata": {
    "colab": {},
    "colab_type": "code",
    "id": "7z1BBvE5qANe",
    "outputId": "c6d31656-73f3-4e42-b85d-14240b31be18"
   },
   "outputs": [
    {
     "data": {
      "text/plain": [
       "<_sre.SRE_Match object; span=(0, 2), match='ab'>"
      ]
     },
     "execution_count": 40,
     "metadata": {
      "tags": []
     },
     "output_type": "execute_result"
    }
   ],
   "source": [
    "re.search(r'\\w\\w',\"abcdefnc abcd\" )"
   ]
  },
  {
   "cell_type": "code",
   "execution_count": 0,
   "metadata": {
    "colab": {},
    "colab_type": "code",
    "id": "MM9YwktbqANh",
    "outputId": "acdbfc7c-14d3-45a8-b80e-c3ae2b35b061"
   },
   "outputs": [
    {
     "data": {
      "text/plain": [
       "'abcdefnc'"
      ]
     },
     "execution_count": 41,
     "metadata": {
      "tags": []
     },
     "output_type": "execute_result"
    }
   ],
   "source": [
    "re.search(r'\\w+',\"abcdefnc abcd\" ).group()  #don't know the numbers of letters"
   ]
  },
  {
   "cell_type": "code",
   "execution_count": 0,
   "metadata": {
    "colab": {},
    "colab_type": "code",
    "id": "RUkEmnZqqANj"
   },
   "outputs": [],
   "source": [
    "\\w\\w\\w\\w\\w\\w\\w\\w\\w"
   ]
  },
  {
   "cell_type": "code",
   "execution_count": 0,
   "metadata": {
    "colab": {},
    "colab_type": "code",
    "id": "hNAwstL8qANm",
    "outputId": "3f2a7be0-4dc6-40c5-e32f-f1be5b9e1732"
   },
   "outputs": [
    {
     "data": {
      "text/plain": [
       "'abcdefnc abcd'"
      ]
     },
     "execution_count": 42,
     "metadata": {
      "tags": []
     },
     "output_type": "execute_result"
    }
   ],
   "source": [
    "re.search(r'\\w+\\W+\\w+',\"abcdefnc abcd\").group()"
   ]
  },
  {
   "cell_type": "code",
   "execution_count": 0,
   "metadata": {
    "colab": {},
    "colab_type": "code",
    "id": "dMweJwrnqANo",
    "outputId": "060a54c4-bc9c-4412-e600-0e8ad0982ba6"
   },
   "outputs": [
    {
     "data": {
      "text/plain": [
       "'abcdefnc       abcd'"
      ]
     },
     "execution_count": 69,
     "metadata": {
      "tags": []
     },
     "output_type": "execute_result"
    }
   ],
   "source": [
    "re.search('\\w+\\W+\\w+',\"abcdefnc       abcd\").group()  #added spaces"
   ]
  },
  {
   "cell_type": "code",
   "execution_count": 0,
   "metadata": {
    "colab": {},
    "colab_type": "code",
    "id": "X9M3HFwBqANq",
    "outputId": "b4963918-bba7-42cf-a563-a7970d5a56f2"
   },
   "outputs": [
    {
     "data": {
      "text/plain": [
       "'abcdefnabcd'"
      ]
     },
     "execution_count": 44,
     "metadata": {
      "tags": []
     },
     "output_type": "execute_result"
    }
   ],
   "source": [
    "re.search(r'\\w+\\W?\\w+',\"abcdefnabcd\").group()  # ? = 0 or 1 instances"
   ]
  },
  {
   "cell_type": "code",
   "execution_count": 0,
   "metadata": {
    "colab": {},
    "colab_type": "code",
    "id": "eA4k0KoYqANs",
    "outputId": "2c1e2131-f822-4857-d252-9825b859120f"
   },
   "outputs": [
    {
     "data": {
      "text/plain": [
       "'abcde fnabcd'"
      ]
     },
     "execution_count": 45,
     "metadata": {
      "tags": []
     },
     "output_type": "execute_result"
    }
   ],
   "source": [
    "re.search(r'\\w+\\W?\\w+',\"abcde fnabcd\").group()"
   ]
  },
  {
   "cell_type": "code",
   "execution_count": 0,
   "metadata": {
    "colab": {},
    "colab_type": "code",
    "id": "WQ_BFcS5qANu"
   },
   "outputs": [],
   "source": [
    "re.search(r'\\w+\\W+\\w+', \"abcdefnabcd\")"
   ]
  },
  {
   "cell_type": "code",
   "execution_count": 0,
   "metadata": {
    "colab": {},
    "colab_type": "code",
    "id": "lznK7ik5qANx"
   },
   "outputs": [],
   "source": [
    "#Pulling out specific amounts"
   ]
  },
  {
   "cell_type": "code",
   "execution_count": 0,
   "metadata": {
    "colab": {},
    "colab_type": "code",
    "id": "wkn2GEazqANz",
    "outputId": "ea7815dc-83c6-4968-844d-75eea480339d"
   },
   "outputs": [
    {
     "data": {
      "text/plain": [
       "<_sre.SRE_Match object; span=(0, 3), match='aaa'>"
      ]
     },
     "execution_count": 48,
     "metadata": {
      "tags": []
     },
     "output_type": "execute_result"
    }
   ],
   "source": [
    "re.search(r'\\w{3}', 'aaaaaaaaaaa')   #only 3 \\w characters"
   ]
  },
  {
   "cell_type": "code",
   "execution_count": 0,
   "metadata": {
    "colab": {},
    "colab_type": "code",
    "id": "hG4dTVeiqAN2",
    "outputId": "b7579c27-6eea-416a-8d98-ac16fd80f636"
   },
   "outputs": [
    {
     "data": {
      "text/plain": [
       "'aaaa'"
      ]
     },
     "execution_count": 49,
     "metadata": {
      "tags": []
     },
     "output_type": "execute_result"
    }
   ],
   "source": [
    "re.search(r'\\w{1,4}', 'aaaaaaaaaaa').group()   #1 is min, 4 is max"
   ]
  },
  {
   "cell_type": "code",
   "execution_count": 0,
   "metadata": {
    "colab": {},
    "colab_type": "code",
    "id": "FtoQEbkDqAN4",
    "outputId": "bf8d0b89-5955-466e-98ac-763ed9481675"
   },
   "outputs": [
    {
     "data": {
      "text/plain": [
       "'abcdefnc abcd'"
      ]
     },
     "execution_count": 50,
     "metadata": {
      "tags": []
     },
     "output_type": "execute_result"
    }
   ],
   "source": [
    " \n",
    "re.search(r'\\w{1,10}\\W{0,4}\\w+',\"abcdefnc abcd\").group()#1-10 \\w characters,\n",
    "                                                        #0-4  \\W chracters\n",
    "                                                        # 1+ \\w characters"
   ]
  },
  {
   "cell_type": "code",
   "execution_count": 0,
   "metadata": {
    "colab": {},
    "colab_type": "code",
    "id": "2dIFQtqSqAN6",
    "outputId": "a7f2840e-641e-4eb0-cb3e-1ec0021196c0"
   },
   "outputs": [
    {
     "data": {
      "text/plain": [
       "'abcdefnc abcd'"
      ]
     },
     "execution_count": 51,
     "metadata": {
      "tags": []
     },
     "output_type": "execute_result"
    }
   ],
   "source": [
    "re.search(r'\\w{1,}\\W{0,}\\w+',\"abcdefnc abcd\").group() #at least 1\n",
    "                                                                #at least 0"
   ]
  },
  {
   "cell_type": "code",
   "execution_count": 0,
   "metadata": {
    "colab": {},
    "colab_type": "code",
    "id": "cpnCrvmlqAN9"
   },
   "outputs": [],
   "source": []
  }
 ],
 "metadata": {
  "colab": {
   "collapsed_sections": [],
   "name": "Regular Expressions  part 3.ipynb",
   "provenance": []
  },
  "kernelspec": {
   "display_name": "Python 3",
   "language": "python",
   "name": "python3"
  },
  "language_info": {
   "codemirror_mode": {
    "name": "ipython",
    "version": 3
   },
   "file_extension": ".py",
   "mimetype": "text/x-python",
   "name": "python",
   "nbconvert_exporter": "python",
   "pygments_lexer": "ipython3",
   "version": "3.8.2"
  }
 },
 "nbformat": 4,
 "nbformat_minor": 1
}
